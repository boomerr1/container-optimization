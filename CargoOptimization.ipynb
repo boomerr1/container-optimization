{
 "cells": [
  {
   "attachments": {},
   "cell_type": "markdown",
   "metadata": {},
   "source": [
    "# Case 2: Cargo Ship\n",
    "The ship MS Leiden is traveling on a route involving five harbors in north-\n",
    "ern Europe: Rotterdam, Hamburg, Kiel, Aarhus, and Copenhagen. You have\n",
    "been asked to help the Captain with the loading and unloading plan (for the\n",
    "destination harbors) that produces\n",
    "\n",
    "- even and well-balanced solution\n",
    "- a solution that is easy to unload (so that containers that are earlier un-loaded are not beneath containers that are later unloaded)\n",
    "- solutions that can integrate as many containers as possible\n",
    "\n",
    "The following details about the problem are provided:\n",
    "1. The ship is now docked in Rotterdam. After visiting Rotterdam, the ship\n",
    "will be traveling to Hamburg, Aarhus, and Copenhagen, in that order. The\n",
    "containers destined for Rotterdam have been unloaded and the containers\n",
    "destined for the remaining three harbors have to be loaded on the ship.\n",
    "2. MS Leiden is a rather small container ship. It has eight bays, three tiers\n",
    "and four rows. The layout of the ship is shown in the figure below.\n",
    "3. Containers should be loaded such that a container that has to be unloaded\n",
    "earlier should be placed in a higher position.\n",
    "4. Each cell in the above figure is able to hold a forty-foot container. That\n",
    "is, the ship has room for 8 × 3 × 4 = 96 forty-foot containers.\n",
    "5. A forty-foot container can be placed on-top of another forty-foot container,\n",
    "but not on top of an empty cell. We assume that only forty-foot containers\n",
    "are loaded on the ship. Each container has a destination port.\n",
    "6. Each container $i$ has a certain weight $w_i$. If a container is much heavier\n",
    "than another $i$ container $j$, say $w_i − w_j > δ_w$, then it is not allowed to\n",
    "place $w_i$ on top of $w_j$ .\n",
    "7. The containers should be balanced in a way that is evenly distributed. The\n",
    "longitudinal center of gravity should be as close as possible to the middle\n",
    "of the container section of the ship. Secondly, the latitudinal center of\n",
    "gravity should be as much to the middle as possible. Note that the center\n",
    "of gravity can be computed as the weighted sum of the centroids of the\n",
    "containers, where the weights are the total weight of the containers."
   ]
  },
  {
   "cell_type": "code",
   "execution_count": 3,
   "metadata": {},
   "outputs": [],
   "source": [
    "import desdeo\n",
    "import numpy as np\n",
    "\n",
    "# desdeo.probdefs.Problem.__abstractmethods__ = set()"
   ]
  },
  {
   "attachments": {},
   "cell_type": "markdown",
   "metadata": {},
   "source": [
    "![title](cargo1.png)"
   ]
  },
  {
   "attachments": {},
   "cell_type": "markdown",
   "metadata": {},
   "source": [
    "![title](cargo2.png)"
   ]
  },
  {
   "attachments": {},
   "cell_type": "markdown",
   "metadata": {},
   "source": [
    "![title](cargo3.png)"
   ]
  },
  {
   "cell_type": "code",
   "execution_count": null,
   "metadata": {},
   "outputs": [],
   "source": [
    "order = ['Rotterdam', 'Hamburg', 'Aarhus', 'Copenhagen']"
   ]
  },
  {
   "attachments": {},
   "cell_type": "markdown",
   "metadata": {},
   "source": [
    "## Custom dataset"
   ]
  },
  {
   "attachments": {},
   "cell_type": "markdown",
   "metadata": {},
   "source": [
    "- Load has to be balanced in every part of the journey (Rotterdam -> Hamburg, Hamburg -> Aarhus, Aarhus -> Copenhagen)\n",
    "- "
   ]
  },
  {
   "cell_type": "code",
   "execution_count": null,
   "metadata": {},
   "outputs": [],
   "source": [
    "# Different scenarios with different weights (ID, weight)\n",
    "# The ID is the ID of the cargo and is between 1 and 10\n",
    "# The weight is between 3750 and 27600 and random\n",
    "\n",
    "# Scenario 1\n",
    "Hamburg = 1\n",
    "Aarhus = 2\n",
    "Copenhagen = 3\n",
    "Data = [(1, 5883), (1, 3485), (1, 9985), (1, 17600), \n",
    "        (2, 7352), (2, 9230), (2, 4699), (2, 16400), \n",
    "        (3, 14500), (3, 5773), (3, 12258)]\n",
    "\n",
    "# Scenario 2 with different weights (ID, weight)\n"
   ]
  },
  {
   "attachments": {},
   "cell_type": "markdown",
   "metadata": {},
   "source": [
    "## Code"
   ]
  },
  {
   "attachments": {},
   "cell_type": "markdown",
   "metadata": {},
   "source": [
    "Balance score can be calculated as:\n",
    "The containers should be balanced in a way that is evenly distributed. The\n",
    "longitudinal center of gravity should be as close as possible to the middle\n",
    "of the container section of the ship. Secondly, the latitudinal center of\n",
    "gravity should be as much to the middle as possible. Note that the center\n",
    "of gravity can be computed as the weighted sum of the centroids of the\n",
    "containers, where the weights are the total weight of the containers."
   ]
  },
  {
   "cell_type": "code",
   "execution_count": 9,
   "metadata": {},
   "outputs": [
    {
     "ename": "ValueError",
     "evalue": "operands could not be broadcast together with shapes (32,) (8,) ",
     "output_type": "error",
     "traceback": [
      "\u001b[1;31m---------------------------------------------------------------------------\u001b[0m",
      "\u001b[1;31mValueError\u001b[0m                                Traceback (most recent call last)",
      "\u001b[1;32mc:\\Users\\lcdew\\Desktop\\UvA-backup\\CS - AI\\Multicriteria Optimization and Decision Analysis\\MODA-project-A2\\CargoOptimization.ipynb Cell 12\u001b[0m in \u001b[0;36m7\n\u001b[0;32m     <a href='vscode-notebook-cell:/c%3A/Users/lcdew/Desktop/UvA-backup/CS%20-%20AI/Multicriteria%20Optimization%20and%20Decision%20Analysis/MODA-project-A2/CargoOptimization.ipynb#X15sZmlsZQ%3D%3D?line=69'>70</a>\u001b[0m     \u001b[39mprint\u001b[39m(longitudinal_center, lattitudinal_center)\n\u001b[0;32m     <a href='vscode-notebook-cell:/c%3A/Users/lcdew/Desktop/UvA-backup/CS%20-%20AI/Multicriteria%20Optimization%20and%20Decision%20Analysis/MODA-project-A2/CargoOptimization.ipynb#X15sZmlsZQ%3D%3D?line=71'>72</a>\u001b[0m     \u001b[39mreturn\u001b[39;00m longitudinal_center, lattitudinal_center\n\u001b[1;32m---> <a href='vscode-notebook-cell:/c%3A/Users/lcdew/Desktop/UvA-backup/CS%20-%20AI/Multicriteria%20Optimization%20and%20Decision%20Analysis/MODA-project-A2/CargoOptimization.ipynb#X15sZmlsZQ%3D%3D?line=73'>74</a>\u001b[0m calculate_centers(np\u001b[39m.\u001b[39;49mones((\u001b[39m8\u001b[39;49m, \u001b[39m3\u001b[39;49m, \u001b[39m4\u001b[39;49m, \u001b[39m2\u001b[39;49m)))\n",
      "\u001b[1;32mc:\\Users\\lcdew\\Desktop\\UvA-backup\\CS - AI\\Multicriteria Optimization and Decision Analysis\\MODA-project-A2\\CargoOptimization.ipynb Cell 12\u001b[0m in \u001b[0;36m6\n\u001b[0;32m     <a href='vscode-notebook-cell:/c%3A/Users/lcdew/Desktop/UvA-backup/CS%20-%20AI/Multicriteria%20Optimization%20and%20Decision%20Analysis/MODA-project-A2/CargoOptimization.ipynb#X15sZmlsZQ%3D%3D?line=62'>63</a>\u001b[0m \u001b[39mdef\u001b[39;00m \u001b[39mcalculate_centers\u001b[39m(configuration):\n\u001b[0;32m     <a href='vscode-notebook-cell:/c%3A/Users/lcdew/Desktop/UvA-backup/CS%20-%20AI/Multicriteria%20Optimization%20and%20Decision%20Analysis/MODA-project-A2/CargoOptimization.ipynb#X15sZmlsZQ%3D%3D?line=64'>65</a>\u001b[0m     summed_configuration \u001b[39m=\u001b[39m sum_tiers(configuration)\n\u001b[1;32m---> <a href='vscode-notebook-cell:/c%3A/Users/lcdew/Desktop/UvA-backup/CS%20-%20AI/Multicriteria%20Optimization%20and%20Decision%20Analysis/MODA-project-A2/CargoOptimization.ipynb#X15sZmlsZQ%3D%3D?line=66'>67</a>\u001b[0m     longitudinal_center \u001b[39m=\u001b[39m get_longitudinal_center(summed_configuration)\n\u001b[0;32m     <a href='vscode-notebook-cell:/c%3A/Users/lcdew/Desktop/UvA-backup/CS%20-%20AI/Multicriteria%20Optimization%20and%20Decision%20Analysis/MODA-project-A2/CargoOptimization.ipynb#X15sZmlsZQ%3D%3D?line=67'>68</a>\u001b[0m     lattitudinal_center \u001b[39m=\u001b[39m get_lattitudinal_center(summed_configuration)\n\u001b[0;32m     <a href='vscode-notebook-cell:/c%3A/Users/lcdew/Desktop/UvA-backup/CS%20-%20AI/Multicriteria%20Optimization%20and%20Decision%20Analysis/MODA-project-A2/CargoOptimization.ipynb#X15sZmlsZQ%3D%3D?line=69'>70</a>\u001b[0m     \u001b[39mprint\u001b[39m(longitudinal_center, lattitudinal_center)\n",
      "\u001b[1;32mc:\\Users\\lcdew\\Desktop\\UvA-backup\\CS - AI\\Multicriteria Optimization and Decision Analysis\\MODA-project-A2\\CargoOptimization.ipynb Cell 12\u001b[0m in \u001b[0;36m3\n\u001b[0;32m     <a href='vscode-notebook-cell:/c%3A/Users/lcdew/Desktop/UvA-backup/CS%20-%20AI/Multicriteria%20Optimization%20and%20Decision%20Analysis/MODA-project-A2/CargoOptimization.ipynb#X15sZmlsZQ%3D%3D?line=27'>28</a>\u001b[0m positions \u001b[39m=\u001b[39m np\u001b[39m.\u001b[39marange(\u001b[39m1\u001b[39m, \u001b[39m9\u001b[39m)\n\u001b[0;32m     <a href='vscode-notebook-cell:/c%3A/Users/lcdew/Desktop/UvA-backup/CS%20-%20AI/Multicriteria%20Optimization%20and%20Decision%20Analysis/MODA-project-A2/CargoOptimization.ipynb#X15sZmlsZQ%3D%3D?line=29'>30</a>\u001b[0m \u001b[39m# Calculate the center of mass\u001b[39;00m\n\u001b[1;32m---> <a href='vscode-notebook-cell:/c%3A/Users/lcdew/Desktop/UvA-backup/CS%20-%20AI/Multicriteria%20Optimization%20and%20Decision%20Analysis/MODA-project-A2/CargoOptimization.ipynb#X15sZmlsZQ%3D%3D?line=30'>31</a>\u001b[0m center \u001b[39m=\u001b[39m np\u001b[39m.\u001b[39msum(weights \u001b[39m*\u001b[39;49m positions) \u001b[39m/\u001b[39m np\u001b[39m.\u001b[39msum(weights)\n\u001b[0;32m     <a href='vscode-notebook-cell:/c%3A/Users/lcdew/Desktop/UvA-backup/CS%20-%20AI/Multicriteria%20Optimization%20and%20Decision%20Analysis/MODA-project-A2/CargoOptimization.ipynb#X15sZmlsZQ%3D%3D?line=32'>33</a>\u001b[0m \u001b[39mreturn\u001b[39;00m center\n",
      "\u001b[1;31mValueError\u001b[0m: operands could not be broadcast together with shapes (32,) (8,) "
     ]
    }
   ],
   "source": [
    "def sum_tiers(configuration):\n",
    "\n",
    "    only_weights = configuration[:, :, :, 1]\n",
    "    summed_configuration = np.sum(only_weights, axis=1)\n",
    "\n",
    "    return summed_configuration\n",
    "\n",
    "\n",
    "def get_longitudinal_center(summed_configuration):\n",
    "    \"\"\"\n",
    "    Parameters\n",
    "    ----------\n",
    "        configuration: list of integers\n",
    "            Shape: (8,3,4,2)\n",
    "            Where containers are placed in the ship.\n",
    "    Returns\n",
    "    -------\n",
    "        center: float between 1 and 8\n",
    "            The longitudinal center of the ship.\n",
    "    \"\"\"\n",
    "    # Calculate the longitudinal center of the ship\n",
    "    # The longitudinal center is the center of mass of the ship\n",
    "    # The center of mass is the sum of the products of the weights and their positions\n",
    "    # divided by the sum of the weights\n",
    "\n",
    "    # Get the weights and the positions of the containers\n",
    "    weights = summed_configuration.flatten()\n",
    "    positions = np.arange(1, 9)\n",
    "\n",
    "    # Calculate the center of mass\n",
    "    center = np.sum(weights * positions) / np.sum(weights)\n",
    "\n",
    "    return center\n",
    "\n",
    "\n",
    "def get_lattitudinal_center(summed_configuration):\n",
    "    \"\"\"\n",
    "    Parameters\n",
    "    ----------\n",
    "        configuration: list of integers\n",
    "            Shape: (8,3,4,2)\n",
    "            Where containers are placed in the ship.\n",
    "    Returns\n",
    "    -------\n",
    "        center: float between 1 and 4\n",
    "            The lattitudinal center of the ship.\n",
    "    \"\"\"\n",
    "    # Calculate the lattitudinal center of the ship\n",
    "    # The lattitudinal center is the center of mass of the ship\n",
    "    # The center of mass is the sum of the products of the weights and their positions\n",
    "    # divided by the sum of the weights\n",
    "\n",
    "    # Get the weights and the positions of the containers\n",
    "    weights = summed_configuration.flatten()\n",
    "    positions = np.arange(1, 5)\n",
    "\n",
    "    # Calculate the center of mass\n",
    "    center = np.sum(weights * positions) / np.sum(weights)\n",
    "\n",
    "    return center\n",
    "\n",
    "\n",
    "def calculate_centers(configuration):\n",
    "\n",
    "    summed_configuration = sum_tiers(configuration)\n",
    "\n",
    "    longitudinal_center = get_longitudinal_center(summed_configuration)\n",
    "    lattitudinal_center = get_lattitudinal_center(summed_configuration)\n",
    "\n",
    "    print(longitudinal_center, lattitudinal_center)\n",
    "\n",
    "    return longitudinal_center, lattitudinal_center\n",
    "\n",
    "calculate_centers(np.ones((8, 3, 4, 2)))"
   ]
  }
 ],
 "metadata": {
  "kernelspec": {
   "display_name": "Python 3",
   "language": "python",
   "name": "python3"
  },
  "language_info": {
   "codemirror_mode": {
    "name": "ipython",
    "version": 3
   },
   "file_extension": ".py",
   "mimetype": "text/x-python",
   "name": "python",
   "nbconvert_exporter": "python",
   "pygments_lexer": "ipython3",
   "version": "3.8.5"
  },
  "orig_nbformat": 4
 },
 "nbformat": 4,
 "nbformat_minor": 2
}
