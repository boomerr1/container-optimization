{
 "cells": [
  {
   "attachments": {},
   "cell_type": "markdown",
   "metadata": {},
   "source": [
    "# Case 2: Cargo Ship\n",
    "The ship MS Leiden is traveling on a route involving five harbors in north-\n",
    "ern Europe: Rotterdam, Hamburg, Kiel, Aarhus, and Copenhagen. You have\n",
    "been asked to help the Captain with the loading and unloading plan (for the\n",
    "destination harbors) that produces\n",
    "\n",
    "- even and well-balanced solution\n",
    "- a solution that is easy to unload (so that containers that are earlier un-loaded are not beneath containers that are later unloaded)\n",
    "- solutions that can integrate as many containers as possible\n",
    "\n",
    "The following details about the problem are provided:\n",
    "1. The ship is now docked in Rotterdam. After visiting Rotterdam, the ship\n",
    "will be traveling to Hamburg, Aarhus, and Copenhagen, in that order. The\n",
    "containers destined for Rotterdam have been unloaded and the containers\n",
    "destined for the remaining three harbors have to be loaded on the ship.\n",
    "2. MS Leiden is a rather small container ship. It has eight bays, three tiers\n",
    "and four rows. The layout of the ship is shown in the figure below.\n",
    "3. Containers should be loaded such that a container that has to be unloaded\n",
    "earlier should be placed in a higher position.\n",
    "4. Each cell in the above figure is able to hold a forty-foot container. That\n",
    "is, the ship has room for 8 × 3 × 4 = 96 forty-foot containers.\n",
    "5. A forty-foot container can be placed on-top of another forty-foot container,\n",
    "but not on top of an empty cell. We assume that only forty-foot containers\n",
    "are loaded on the ship. Each container has a destination port.\n",
    "6. Each container $i$ has a certain weight $w_i$. If a container is much heavier\n",
    "than another $i$ container $j$, say $w_i − w_j > δ_w$, then it is not allowed to\n",
    "place $w_i$ on top of $w_j$ .\n",
    "7. The containers should be balanced in a way that is evenly distributed. The\n",
    "longitudinal center of gravity should be as close as possible to the middle\n",
    "of the container section of the ship. Secondly, the latitudinal center of\n",
    "gravity should be as much to the middle as possible. Note that the center\n",
    "of gravity can be computed as the weighted sum of the centroids of the\n",
    "containers, where the weights are the total weight of the containers."
   ]
  },
  {
   "cell_type": "code",
   "execution_count": 1,
   "metadata": {},
   "outputs": [],
   "source": [
    "from desdeo_problem import variable_builder, ScalarObjective, ScalarConstraint, MOProblem\n",
    "from desdeo_problem.testproblems.TestProblems import test_problem_builder\n",
    "\n",
    "from desdeo_emo.EAs import NSGAIII\n",
    "\n",
    "import numpy as np\n",
    "\n",
    "# desdeo.probdefs.Problem.__abstractmethods__ = set()\n",
    "# desdeo docs: https://desdeo.readthedocs.io/en/latest/"
   ]
  },
  {
   "attachments": {},
   "cell_type": "markdown",
   "metadata": {},
   "source": [
    "![title](cargo1.png)"
   ]
  },
  {
   "attachments": {},
   "cell_type": "markdown",
   "metadata": {},
   "source": [
    "![title](cargo2.png)"
   ]
  },
  {
   "attachments": {},
   "cell_type": "markdown",
   "metadata": {},
   "source": [
    "![title](cargo3.png)"
   ]
  },
  {
   "attachments": {},
   "cell_type": "markdown",
   "metadata": {},
   "source": [
    "## Code"
   ]
  },
  {
   "attachments": {},
   "cell_type": "markdown",
   "metadata": {},
   "source": [
    "Balance score can be calculated as:\n",
    "The containers should be balanced in a way that is evenly distributed. The\n",
    "longitudinal center of gravity should be as close as possible to the middle\n",
    "of the container section of the ship. Secondly, the latitudinal center of\n",
    "gravity should be as much to the middle as possible. Note that the center\n",
    "of gravity can be computed as the weighted sum of the centroids of the\n",
    "containers, where the weights are the total weight of the containers."
   ]
  },
  {
   "cell_type": "code",
   "execution_count": 216,
   "metadata": {},
   "outputs": [],
   "source": [
    "# Create DATA\n",
    "# n = np.random.randint(10, 96)\n",
    "n = 2\n",
    "h = np.random.randint(1, 4, n)\n",
    "w = np.random.randint(2000, 30000, n)\n",
    "DATA = np.array(list(zip(h,w)))\n",
    "\n",
    "HARBORS = np.unique(DATA[:,0])"
   ]
  },
  {
   "attachments": {},
   "cell_type": "markdown",
   "metadata": {},
   "source": [
    "### Helper functions"
   ]
  },
  {
   "cell_type": "code",
   "execution_count": 217,
   "metadata": {},
   "outputs": [],
   "source": [
    "def remove_harbor_containers(configuration, destination):\n",
    "    \"\"\"\n",
    "    Parameters\n",
    "    ----------\n",
    "        configuration: list of integers\n",
    "            Shape: (8,3,4,2)\n",
    "            Where containers are placed in the ship.\n",
    "        destination: integer\n",
    "            The destination harbor.\n",
    "    Returns\n",
    "    -------\n",
    "        configuration: list of integers\n",
    "            Shape: (8,3,4,2)\n",
    "            Where containers are placed in the ship.\n",
    "    \"\"\"\n",
    "    tiers = range(configuration.shape[1])\n",
    "    for tier in tiers:\n",
    "        idx_container = np.argwhere(configuration[:, tier, :, 0] == destination)\n",
    "        for idx in idx_container:\n",
    "            if tier == 2:\n",
    "                configuration[idx[0],tier,idx[1],:] = (0,0)\n",
    "            # If the container is not on the top tier, move the container above it down\n",
    "            else:\n",
    "                configuration[idx[0],tier,idx[1],:] = configuration[idx[0],tier+1,idx[1],:]\n",
    "                if tier == 1:\n",
    "                    configuration[idx[0],tier+1,idx[1],:] = (0,0)\n",
    "                else:\n",
    "                    configuration[idx[0],tier+1,idx[1],:] = configuration[idx[0],tier+2,idx[1],:]\n",
    "    return configuration\n",
    "\n",
    "def positions_to_matrix(positions):\n",
    "\n",
    "    configuration = np.zeros((8,3,4,2), dtype=int)\n",
    "\n",
    "    for i, position in enumerate(positions):\n",
    "\n",
    "        layer = int(position // 32)\n",
    "        position = position % 32\n",
    "        row = int(position // 4)\n",
    "        column = int(position % 4)\n",
    "        configuration[row, layer, column, :] = DATA[i]\n",
    "        \n",
    "    return configuration"
   ]
  },
  {
   "attachments": {},
   "cell_type": "markdown",
   "metadata": {},
   "source": [
    "### Objective 1: Stability"
   ]
  },
  {
   "cell_type": "code",
   "execution_count": 223,
   "metadata": {},
   "outputs": [],
   "source": [
    "def sum_tiers(configuration):\n",
    "\n",
    "    only_weights = configuration[:, :, :, 1]\n",
    "    summed_configuration = np.sum(only_weights, axis=1)\n",
    "\n",
    "    return summed_configuration\n",
    "\n",
    "def get_longitudinal_center(summed_configuration):\n",
    "\n",
    "    weights = np.sum(summed_configuration, axis=1)\n",
    "    positions = np.arange(1, 9)\n",
    "\n",
    "    center = np.sum(weights * positions) / np.sum(weights)\n",
    "\n",
    "    return center\n",
    "\n",
    "def get_lattitudinal_center(summed_configuration):\n",
    "\n",
    "    weights = np.sum(summed_configuration, axis=0)\n",
    "    positions = np.arange(1, 5)\n",
    "\n",
    "    center = np.sum(weights * positions) / np.sum(weights)\n",
    "\n",
    "    return center\n",
    "\n",
    "def calculate_centers(configuration):\n",
    "\n",
    "    summed_configuration = sum_tiers(configuration)\n",
    "\n",
    "    longitudinal_center = get_longitudinal_center(summed_configuration)\n",
    "    lattitudinal_center = get_lattitudinal_center(summed_configuration)\n",
    "\n",
    "    return longitudinal_center, lattitudinal_center\n",
    "\n",
    "def get_score(configuration):\n",
    "\n",
    "    longitudinal_center, lattitudinal_center = calculate_centers(configuration)\n",
    "\n",
    "    long_error, latt_error = abs(longitudinal_center - 4.5), abs(lattitudinal_center - 2.5)\n",
    "\n",
    "    return long_error + latt_error\n",
    "\n",
    "def calculate_total_stability(candidate_solutions):\n",
    "\n",
    "    stability_scores = []\n",
    "\n",
    "    for candidate in candidate_solutions:\n",
    "\n",
    "        configuration = positions_to_matrix(candidate)\n",
    "\n",
    "        stability_score = 0\n",
    "        for i in HARBORS:\n",
    "\n",
    "            stability_score += get_score(configuration)\n",
    "            configuration = remove_harbor_containers(configuration, i)\n",
    "        \n",
    "        stability_scores.append(stability_score)\n",
    "    print(stability_scores)\n",
    "    return stability_scores"
   ]
  },
  {
   "attachments": {},
   "cell_type": "markdown",
   "metadata": {},
   "source": [
    "### Objective 2: Unloading time"
   ]
  },
  {
   "cell_type": "code",
   "execution_count": 224,
   "metadata": {},
   "outputs": [],
   "source": [
    "def get_unloading_time(candidate_solutions):\n",
    "\n",
    "    unloading_times = []\n",
    "    \n",
    "    for candidate in candidate_solutions:\n",
    "\n",
    "        configuration = positions_to_matrix(candidate)\n",
    "        only_harbors = configuration[:, :, :, 0]\n",
    "\n",
    "        unloading_time = 0\n",
    "        for i in range(8):\n",
    "            for j in range(4):\n",
    "                stack = only_harbors[i, :, j]\n",
    "                stack = stack[stack != 0]\n",
    "                if len(stack) > 1:\n",
    "                    if tuple(stack) == (2,1,3):\n",
    "                        return 4\n",
    "                    for layer in range(len(stack)-1):\n",
    "                        if stack[layer] == 1:\n",
    "                            if stack[layer+1] != 1:\n",
    "                                unloading_time += 2\n",
    "                            if len(stack[layer:]) > 2:\n",
    "                                if stack[layer+2] != 1 and stack[layer+1] != 1:\n",
    "                                    unloading_time += 2\n",
    "                        elif stack[layer] == 2:\n",
    "                            if stack[layer+1] == 3:\n",
    "                                unloading_time += 2\n",
    "                            if len(stack[layer:]) > 2:\n",
    "                                if stack[layer+2] == 3 and stack[layer+1] == 3:\n",
    "                                    unloading_time += 2\n",
    "        unloading_times.append(unloading_time)\n",
    "\n",
    "    return unloading_times"
   ]
  },
  {
   "cell_type": "code",
   "execution_count": 225,
   "metadata": {},
   "outputs": [],
   "source": [
    "def func(stack):\n",
    "    unloading_time = 0\n",
    "    if tuple(stack) == (2,1,3):\n",
    "        return 4\n",
    "    for layer in range(len(stack)-1):\n",
    "        if stack[layer] == 1:\n",
    "            if stack[layer+1] != 1:\n",
    "                unloading_time += 2\n",
    "            if len(stack[layer:]) > 2:\n",
    "                if stack[layer+2] != 1 and stack[layer+1] != 1:\n",
    "                    unloading_time += 2\n",
    "        elif stack[layer] == 2:\n",
    "            if stack[layer+1] == 3:\n",
    "                unloading_time += 2\n",
    "            if len(stack[layer:]) > 2:\n",
    "                if stack[layer+2] == 3 and stack[layer+1] == 3:\n",
    "                    unloading_time += 2\n",
    "    return unloading_time"
   ]
  },
  {
   "cell_type": "code",
   "execution_count": 226,
   "metadata": {},
   "outputs": [
    {
     "data": {
      "text/plain": [
       "4"
      ]
     },
     "execution_count": 226,
     "metadata": {},
     "output_type": "execute_result"
    }
   ],
   "source": [
    "func([2, 1, 3])"
   ]
  },
  {
   "cell_type": "code",
   "execution_count": 240,
   "metadata": {},
   "outputs": [
    {
     "name": "stdout",
     "output_type": "stream",
     "text": [
      "[2.4216163583252195, 6.578383641674781, 8.294060370009737, 4.294060370009737, 5.431353456669912, 4.294060370009737, 4.862706913339824, 3.8529698149951317, 6.009737098344694, 5.147030185004868]\n"
     ]
    },
    {
     "ename": "ConstraintError",
     "evalue": "Objective decision_vector [[2.42161636 0.        ]\n [6.57838364 0.        ]\n [8.29406037 0.        ]\n [4.29406037 0.        ]\n [5.43135346 0.        ]\n [4.29406037 0.        ]\n [4.86270691 0.        ]\n [3.85296981 0.        ]\n [6.0097371  0.        ]\n [5.14703019 0.        ]] is of wrong lenght: Should be 0, but is 2",
     "output_type": "error",
     "traceback": [
      "\u001b[1;31m---------------------------------------------------------------------------\u001b[0m",
      "\u001b[1;31mConstraintError\u001b[0m                           Traceback (most recent call last)",
      "\u001b[1;32mc:\\Users\\lcdew\\Desktop\\UvA-backup\\CS - AI\\Multicriteria Optimization and Decision Analysis\\MODA-project-A2\\CargoOptimization.ipynb Cell 17\u001b[0m in \u001b[0;36m7\n\u001b[0;32m     <a href='vscode-notebook-cell:/c%3A/Users/lcdew/Desktop/UvA-backup/CS%20-%20AI/Multicriteria%20Optimization%20and%20Decision%20Analysis/MODA-project-A2/CargoOptimization.ipynb#X25sZmlsZQ%3D%3D?line=73'>74</a>\u001b[0m problem \u001b[39m=\u001b[39m MOProblem(objectives, variables, constraints)\n\u001b[0;32m     <a href='vscode-notebook-cell:/c%3A/Users/lcdew/Desktop/UvA-backup/CS%20-%20AI/Multicriteria%20Optimization%20and%20Decision%20Analysis/MODA-project-A2/CargoOptimization.ipynb#X25sZmlsZQ%3D%3D?line=75'>76</a>\u001b[0m \u001b[39m# Create an algorithm\u001b[39;00m\n\u001b[1;32m---> <a href='vscode-notebook-cell:/c%3A/Users/lcdew/Desktop/UvA-backup/CS%20-%20AI/Multicriteria%20Optimization%20and%20Decision%20Analysis/MODA-project-A2/CargoOptimization.ipynb#X25sZmlsZQ%3D%3D?line=76'>77</a>\u001b[0m evolver \u001b[39m=\u001b[39m NSGAIII(problem, \n\u001b[0;32m     <a href='vscode-notebook-cell:/c%3A/Users/lcdew/Desktop/UvA-backup/CS%20-%20AI/Multicriteria%20Optimization%20and%20Decision%20Analysis/MODA-project-A2/CargoOptimization.ipynb#X25sZmlsZQ%3D%3D?line=77'>78</a>\u001b[0m                   n_iterations\u001b[39m=\u001b[39;49m\u001b[39m10\u001b[39;49m,\n\u001b[0;32m     <a href='vscode-notebook-cell:/c%3A/Users/lcdew/Desktop/UvA-backup/CS%20-%20AI/Multicriteria%20Optimization%20and%20Decision%20Analysis/MODA-project-A2/CargoOptimization.ipynb#X25sZmlsZQ%3D%3D?line=78'>79</a>\u001b[0m                   n_gen_per_iter\u001b[39m=\u001b[39;49m\u001b[39m10\u001b[39;49m,\n\u001b[0;32m     <a href='vscode-notebook-cell:/c%3A/Users/lcdew/Desktop/UvA-backup/CS%20-%20AI/Multicriteria%20Optimization%20and%20Decision%20Analysis/MODA-project-A2/CargoOptimization.ipynb#X25sZmlsZQ%3D%3D?line=79'>80</a>\u001b[0m                   population_size\u001b[39m=\u001b[39;49m\u001b[39m10\u001b[39;49m)\n\u001b[0;32m     <a href='vscode-notebook-cell:/c%3A/Users/lcdew/Desktop/UvA-backup/CS%20-%20AI/Multicriteria%20Optimization%20and%20Decision%20Analysis/MODA-project-A2/CargoOptimization.ipynb#X25sZmlsZQ%3D%3D?line=81'>82</a>\u001b[0m \u001b[39m# Run the algorithm\u001b[39;00m\n\u001b[0;32m     <a href='vscode-notebook-cell:/c%3A/Users/lcdew/Desktop/UvA-backup/CS%20-%20AI/Multicriteria%20Optimization%20and%20Decision%20Analysis/MODA-project-A2/CargoOptimization.ipynb#X25sZmlsZQ%3D%3D?line=82'>83</a>\u001b[0m \u001b[39mwhile\u001b[39;00m evolver\u001b[39m.\u001b[39mcontinue_evolution():\n",
      "File \u001b[1;32m~\\AppData\\Roaming\\Python\\Python38\\site-packages\\desdeo_emo\\EAs\\NSGAIII.py:76\u001b[0m, in \u001b[0;36mNSGAIII.__init__\u001b[1;34m(self, problem, population_size, population_params, n_survive, initial_population, lattice_resolution, selection_type, interact, use_surrogates, n_iterations, n_gen_per_iter, total_function_evaluations, keep_archive, save_non_dominated)\u001b[0m\n\u001b[0;32m     59\u001b[0m \u001b[39mdef\u001b[39;00m \u001b[39m__init__\u001b[39m(\n\u001b[0;32m     60\u001b[0m     \u001b[39mself\u001b[39m,\n\u001b[0;32m     61\u001b[0m     problem: MOProblem,\n\u001b[1;32m   (...)\u001b[0m\n\u001b[0;32m     74\u001b[0m     save_non_dominated: \u001b[39mbool\u001b[39m \u001b[39m=\u001b[39m \u001b[39mFalse\u001b[39;00m,\n\u001b[0;32m     75\u001b[0m ):\n\u001b[1;32m---> 76\u001b[0m     \u001b[39msuper\u001b[39;49m()\u001b[39m.\u001b[39;49m\u001b[39m__init__\u001b[39;49m(\n\u001b[0;32m     77\u001b[0m         problem\u001b[39m=\u001b[39;49mproblem,\n\u001b[0;32m     78\u001b[0m         population_size\u001b[39m=\u001b[39;49mpopulation_size,\n\u001b[0;32m     79\u001b[0m         population_params\u001b[39m=\u001b[39;49mpopulation_params,\n\u001b[0;32m     80\u001b[0m         initial_population\u001b[39m=\u001b[39;49minitial_population,\n\u001b[0;32m     81\u001b[0m         lattice_resolution\u001b[39m=\u001b[39;49mlattice_resolution,\n\u001b[0;32m     82\u001b[0m         interact\u001b[39m=\u001b[39;49minteract,\n\u001b[0;32m     83\u001b[0m         use_surrogates\u001b[39m=\u001b[39;49muse_surrogates,\n\u001b[0;32m     84\u001b[0m         n_iterations\u001b[39m=\u001b[39;49mn_iterations,\n\u001b[0;32m     85\u001b[0m         n_gen_per_iter\u001b[39m=\u001b[39;49mn_gen_per_iter,\n\u001b[0;32m     86\u001b[0m         total_function_evaluations\u001b[39m=\u001b[39;49mtotal_function_evaluations,\n\u001b[0;32m     87\u001b[0m         keep_archive\u001b[39m=\u001b[39;49mkeep_archive,\n\u001b[0;32m     88\u001b[0m         save_non_dominated\u001b[39m=\u001b[39;49msave_non_dominated,\n\u001b[0;32m     89\u001b[0m     )\n\u001b[0;32m     90\u001b[0m     \u001b[39mself\u001b[39m\u001b[39m.\u001b[39mselection_type \u001b[39m=\u001b[39m selection_type\n\u001b[0;32m     91\u001b[0m     selection_operator \u001b[39m=\u001b[39m NSGAIII_select(\n\u001b[0;32m     92\u001b[0m         \u001b[39mself\u001b[39m\u001b[39m.\u001b[39mpopulation, n_survive, selection_type\u001b[39m=\u001b[39mselection_type\n\u001b[0;32m     93\u001b[0m     )\n",
      "File \u001b[1;32m~\\AppData\\Roaming\\Python\\Python38\\site-packages\\desdeo_emo\\EAs\\BaseEA.py:413\u001b[0m, in \u001b[0;36mBaseDecompositionEA.__init__\u001b[1;34m(self, problem, initial_population, population_size, population_params, lattice_resolution, interact, n_iterations, n_gen_per_iter, use_surrogates, total_function_evaluations, keep_archive, save_non_dominated)\u001b[0m\n\u001b[0;32m    406\u001b[0m             lattice_resolution \u001b[39m=\u001b[39m \u001b[39m3\u001b[39m\n\u001b[0;32m    407\u001b[0m     population_size \u001b[39m=\u001b[39m comb(\n\u001b[0;32m    408\u001b[0m         lattice_resolution \u001b[39m+\u001b[39m num_fitnesses \u001b[39m-\u001b[39m \u001b[39m1\u001b[39m,\n\u001b[0;32m    409\u001b[0m         num_fitnesses \u001b[39m-\u001b[39m \u001b[39m1\u001b[39m,\n\u001b[0;32m    410\u001b[0m         exact\u001b[39m=\u001b[39m\u001b[39mTrue\u001b[39;00m,\n\u001b[0;32m    411\u001b[0m     )\n\u001b[1;32m--> 413\u001b[0m \u001b[39mself\u001b[39m\u001b[39m.\u001b[39mpopulation \u001b[39m=\u001b[39m Population(\n\u001b[0;32m    414\u001b[0m     problem, population_size, population_params, use_surrogates\n\u001b[0;32m    415\u001b[0m )\n\u001b[0;32m    416\u001b[0m \u001b[39mself\u001b[39m\u001b[39m.\u001b[39m_function_evaluation_count \u001b[39m+\u001b[39m\u001b[39m=\u001b[39m population_size\n",
      "File \u001b[1;32m~\\AppData\\Roaming\\Python\\Python38\\site-packages\\desdeo_emo\\population\\Population.py:122\u001b[0m, in \u001b[0;36mPopulation.__init__\u001b[1;34m(self, problem, pop_size, pop_params, use_surrogates)\u001b[0m\n\u001b[0;32m    120\u001b[0m         design \u001b[39m=\u001b[39m \u001b[39m\"\u001b[39m\u001b[39mLHSDesign\u001b[39m\u001b[39m\"\u001b[39m\n\u001b[0;32m    121\u001b[0m individuals \u001b[39m=\u001b[39m create_new_individuals(design, problem, pop_size)\n\u001b[1;32m--> 122\u001b[0m \u001b[39mself\u001b[39;49m\u001b[39m.\u001b[39;49madd(individuals, use_surrogates)\n\u001b[0;32m    123\u001b[0m \u001b[39mself\u001b[39m\u001b[39m.\u001b[39mxover \u001b[39m=\u001b[39m SBX_xover()\n\u001b[0;32m    124\u001b[0m \u001b[39mself\u001b[39m\u001b[39m.\u001b[39mmutation \u001b[39m=\u001b[39m BP_mutation(\u001b[39mself\u001b[39m\u001b[39m.\u001b[39mlower_limits, \u001b[39mself\u001b[39m\u001b[39m.\u001b[39mupper_limits)\n",
      "File \u001b[1;32m~\\AppData\\Roaming\\Python\\Python38\\site-packages\\desdeo_emo\\population\\Population.py:145\u001b[0m, in \u001b[0;36mPopulation.add\u001b[1;34m(self, offsprings, use_surrogates)\u001b[0m\n\u001b[0;32m    126\u001b[0m \u001b[39mdef\u001b[39;00m \u001b[39madd\u001b[39m(\u001b[39mself\u001b[39m, offsprings: Union[List, np\u001b[39m.\u001b[39mndarray], use_surrogates: \u001b[39mbool\u001b[39m \u001b[39m=\u001b[39m \u001b[39mFalse\u001b[39;00m):\n\u001b[0;32m    127\u001b[0m \u001b[39m    \u001b[39m\u001b[39m\"\"\"Evaluate and add offspring to the population.\u001b[39;00m\n\u001b[0;32m    128\u001b[0m \n\u001b[0;32m    129\u001b[0m \u001b[39m    Parameters\u001b[39;00m\n\u001b[1;32m   (...)\u001b[0m\n\u001b[0;32m    143\u001b[0m \u001b[39m        Results of evaluation.\u001b[39;00m\n\u001b[0;32m    144\u001b[0m \u001b[39m    \"\"\"\u001b[39;00m\n\u001b[1;32m--> 145\u001b[0m     results \u001b[39m=\u001b[39m \u001b[39mself\u001b[39;49m\u001b[39m.\u001b[39;49mproblem\u001b[39m.\u001b[39;49mevaluate(offsprings, use_surrogates)\n\u001b[0;32m    146\u001b[0m     objectives \u001b[39m=\u001b[39m results\u001b[39m.\u001b[39mobjectives\n\u001b[0;32m    147\u001b[0m     fitness \u001b[39m=\u001b[39m results\u001b[39m.\u001b[39mfitness\n",
      "File \u001b[1;32m~\\AppData\\Roaming\\Python\\Python38\\site-packages\\desdeo_problem\\problem\\Problem.py:1176\u001b[0m, in \u001b[0;36mMOProblem.evaluate\u001b[1;34m(self, decision_vectors, use_surrogate)\u001b[0m\n\u001b[0;32m   1170\u001b[0m     \u001b[39mraise\u001b[39;00m ProblemError(msg)\n\u001b[0;32m   1172\u001b[0m objective_vectors, uncertainity \u001b[39m=\u001b[39m \u001b[39mself\u001b[39m\u001b[39m.\u001b[39mevaluate_objectives(\n\u001b[0;32m   1173\u001b[0m     decision_vectors, use_surrogate\u001b[39m=\u001b[39muse_surrogate\n\u001b[0;32m   1174\u001b[0m )\n\u001b[1;32m-> 1176\u001b[0m constraint_values \u001b[39m=\u001b[39m \u001b[39mself\u001b[39;49m\u001b[39m.\u001b[39;49mevaluate_constraint_values(\n\u001b[0;32m   1177\u001b[0m     decision_vectors, objective_vectors\n\u001b[0;32m   1178\u001b[0m )\n\u001b[0;32m   1180\u001b[0m \u001b[39m# Calculate fitness, which is always to be minimized\u001b[39;00m\n\u001b[0;32m   1181\u001b[0m fitness \u001b[39m=\u001b[39m \u001b[39mself\u001b[39m\u001b[39m.\u001b[39mevaluate_fitness(objective_vectors)\n",
      "File \u001b[1;32m~\\AppData\\Roaming\\Python\\Python38\\site-packages\\desdeo_problem\\problem\\Problem.py:1274\u001b[0m, in \u001b[0;36mMOProblem.evaluate_constraint_values\u001b[1;34m(self, decision_vectors, objective_vectors)\u001b[0m\n\u001b[0;32m   1268\u001b[0m constraint_values: np\u001b[39m.\u001b[39mndarray \u001b[39m=\u001b[39m np\u001b[39m.\u001b[39mndarray(\n\u001b[0;32m   1269\u001b[0m     (n_rows, \u001b[39mself\u001b[39m\u001b[39m.\u001b[39mn_of_constraints), dtype\u001b[39m=\u001b[39m\u001b[39mfloat\u001b[39m\n\u001b[0;32m   1270\u001b[0m )\n\u001b[0;32m   1272\u001b[0m \u001b[39mfor\u001b[39;00m (col_i, constraint) \u001b[39min\u001b[39;00m \u001b[39menumerate\u001b[39m(\u001b[39mself\u001b[39m\u001b[39m.\u001b[39mconstraints):\n\u001b[0;32m   1273\u001b[0m     constraint_values[:, col_i] \u001b[39m=\u001b[39m np\u001b[39m.\u001b[39marray(\n\u001b[1;32m-> 1274\u001b[0m         constraint\u001b[39m.\u001b[39;49mevaluate(decision_vectors, objective_vectors)\n\u001b[0;32m   1275\u001b[0m     )\n\u001b[0;32m   1276\u001b[0m \u001b[39mreturn\u001b[39;00m constraint_values\n",
      "File \u001b[1;32m~\\AppData\\Roaming\\Python\\Python38\\site-packages\\desdeo_problem\\problem\\Constraint.py:152\u001b[0m, in \u001b[0;36mScalarConstraint.evaluate\u001b[1;34m(self, decision_vector, objective_vector)\u001b[0m\n\u001b[0;32m    148\u001b[0m \u001b[39mif\u001b[39;00m objective_l \u001b[39m!=\u001b[39m \u001b[39mself\u001b[39m\u001b[39m.\u001b[39m__n_objective_funs:\n\u001b[0;32m    149\u001b[0m     msg \u001b[39m=\u001b[39m (\u001b[39m\"\u001b[39m\u001b[39mObjective decision_vector \u001b[39m\u001b[39m{}\u001b[39;00m\u001b[39m is of wrong lenght:\u001b[39m\u001b[39m\"\u001b[39m \u001b[39m\"\u001b[39m\u001b[39m Should be \u001b[39m\u001b[39m{}\u001b[39;00m\u001b[39m, but is \u001b[39m\u001b[39m{}\u001b[39;00m\u001b[39m\"\u001b[39m)\u001b[39m.\u001b[39mformat(\n\u001b[0;32m    150\u001b[0m         objective_vector, \u001b[39mself\u001b[39m\u001b[39m.\u001b[39m__n_objective_funs, objective_l\n\u001b[0;32m    151\u001b[0m     )\n\u001b[1;32m--> 152\u001b[0m     \u001b[39mraise\u001b[39;00m ConstraintError(msg)\n\u001b[0;32m    153\u001b[0m \u001b[39mtry\u001b[39;00m:\n\u001b[0;32m    154\u001b[0m     result \u001b[39m=\u001b[39m \u001b[39mself\u001b[39m\u001b[39m.\u001b[39m__evaluator(decision_vector, objective_vector)\n",
      "\u001b[1;31mConstraintError\u001b[0m: Objective decision_vector [[2.42161636 0.        ]\n [6.57838364 0.        ]\n [8.29406037 0.        ]\n [4.29406037 0.        ]\n [5.43135346 0.        ]\n [4.29406037 0.        ]\n [4.86270691 0.        ]\n [3.85296981 0.        ]\n [6.0097371  0.        ]\n [5.14703019 0.        ]] is of wrong lenght: Should be 0, but is 2"
     ]
    }
   ],
   "source": [
    "# Constants\n",
    "delta_weight = 500\n",
    "\n",
    "# Constraints\n",
    "# 1. Containers can't be placed on the same position\n",
    "# 2. Containers can not levitate\n",
    "# 3. Containers can only weigh delta_weight kg more than the container below it\n",
    "# \n",
    "# Objectives\n",
    "# 1. Minimize the long_error + latt_error (maximize the stability of the ship)\n",
    "# 2. Minimize the unloading time of the ship\n",
    "\n",
    "# Create variables\n",
    "var_names = [\"c\"+str(id) for id in range(len(DATA))]\n",
    "\n",
    "initial_values = [pos for pos in range(len(DATA))]\n",
    "lower_bounds = [0 for _ in range(len(DATA))]\n",
    "upper_bounds = [95.9999 for _ in range(len(DATA))]\n",
    "\n",
    "variables = variable_builder(var_names, initial_values, lower_bounds, upper_bounds)\n",
    "\n",
    "# Create objectives\n",
    "objectives = [\n",
    "    ScalarObjective(name=\"Stability\", evaluator=calculate_total_stability, maximize=False),\n",
    "    ScalarObjective(name=\"Unloading time\", evaluator=get_unloading_time, maximize=False)\n",
    "    ]\n",
    "\n",
    "# Create constraints\n",
    "def overlapping_eval(positions):\n",
    "\n",
    "    positions = [int(pos) for pos in positions]\n",
    "    \n",
    "    if len(positions) != len(set(positions)):\n",
    "        return -1\n",
    "    else:\n",
    "        return 1\n",
    "    \n",
    "def levitating_eval(positions):\n",
    "\n",
    "    positions = [int(pos) for pos in positions]\n",
    "    \n",
    "    for pos in positions:\n",
    "        if pos < 32:\n",
    "            continue\n",
    "        else:\n",
    "            pos_below = np.arange(pos-32, -1, -32)\n",
    "            if not all(x in positions for x in pos_below):\n",
    "                return -1\n",
    "    return 1\n",
    "\n",
    "def weight_eval(positions):\n",
    "\n",
    "    positions = [int(pos) for pos in positions]\n",
    "    \n",
    "    pos_weights = list(zip(positions, DATA[:,1]))\n",
    "    for pos, weight in pos_weights:\n",
    "        if pos < 32:\n",
    "            continue\n",
    "        else:\n",
    "            pos_below = pos-32\n",
    "            # find weight of container below by getting the index in the list of tuples\n",
    "            weight_below = pos_weights[positions.index(pos_below)][1]\n",
    "            if weight > weight_below + delta_weight:\n",
    "                return -1\n",
    "    return 1\n",
    "\n",
    "\n",
    "constraints = [\n",
    "    ScalarConstraint(name=\"Overlapping\", n_decision_vars=len(DATA), n_objective_funs=0, evaluator=overlapping_eval),\n",
    "    ScalarConstraint(name=\"Levitating\", n_decision_vars=len(DATA), n_objective_funs=0, evaluator=levitating_eval),\n",
    "    ScalarConstraint(name=\"Weight\", n_decision_vars=len(DATA), n_objective_funs=0, evaluator=weight_eval)\n",
    "    ]\n",
    "\n",
    "problem = MOProblem(objectives, variables, constraints)\n",
    "\n",
    "# Create an algorithm\n",
    "evolver = NSGAIII(problem, \n",
    "                  n_iterations=10,\n",
    "                  n_gen_per_iter=10,\n",
    "                  population_size=10)\n",
    "\n",
    "# Run the algorithm\n",
    "while evolver.continue_evolution():\n",
    "    evolver.iterate()"
   ]
  },
  {
   "cell_type": "code",
   "execution_count": null,
   "metadata": {},
   "outputs": [],
   "source": []
  }
 ],
 "metadata": {
  "kernelspec": {
   "display_name": "Python 3",
   "language": "python",
   "name": "python3"
  },
  "language_info": {
   "codemirror_mode": {
    "name": "ipython",
    "version": 3
   },
   "file_extension": ".py",
   "mimetype": "text/x-python",
   "name": "python",
   "nbconvert_exporter": "python",
   "pygments_lexer": "ipython3",
   "version": "3.8.5"
  },
  "orig_nbformat": 4
 },
 "nbformat": 4,
 "nbformat_minor": 2
}
